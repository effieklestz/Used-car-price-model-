{
 "cells": [
  {
   "cell_type": "code",
   "execution_count": 4,
   "metadata": {},
   "outputs": [],
   "source": [
    "import pandas as pd\n",
    "import matplotlib.pyplot as plt\n",
    "import seaborn as sns\n"
   ]
  },
  {
   "cell_type": "code",
   "execution_count": 5,
   "metadata": {},
   "outputs": [],
   "source": [
    "fd = pd.read_csv('vehicles.csv')\n"
   ]
  },
  {
   "cell_type": "code",
   "execution_count": 6,
   "metadata": {},
   "outputs": [],
   "source": [
    "import numpy as np \n",
    "df = fd.drop(columns= ['id','url','region_url','image_url','lat','long','description','region','vin','paint_color','state','county','title_status'])\n",
    "df = df[(df['price'] < 100000) & (df['price'] > 850) & (df['odometer'] < 300000) & (df['odometer'] > 1000) & (df['year'] > 1985)]\n"
   ]
  },
  {
   "cell_type": "code",
   "execution_count": 9,
   "metadata": {},
   "outputs": [
    {
     "name": "stdout",
     "output_type": "stream",
     "text": [
      "14627.89024607097\n"
     ]
    }
   ],
   "source": [
    "mean_price= df.price.mean()\n",
    "print(mean_price)"
   ]
  },
  {
   "cell_type": "code",
   "execution_count": 7,
   "metadata": {
    "scrolled": false
   },
   "outputs": [
    {
     "name": "stdout",
     "output_type": "stream",
     "text": [
      "           nanmin    nanmax        nanmean\n",
      "condition                                 \n",
      "excellent  1001.0  299999.0  108791.470909\n",
      "fair       1640.0  299999.0  173624.554540\n",
      "good       1062.0  299999.0  102121.286686\n",
      "like new   1024.0  298000.0   81326.748015\n",
      "new        1050.0  234000.0   62842.951064\n",
      "salvage    1234.0  297475.0  128002.676871\n",
      "           nanmin  nanmax      nanmean\n",
      "condition                             \n",
      "excellent  1986.0  2021.0  2010.206232\n",
      "fair       1986.0  2019.0  2002.579322\n",
      "good       1986.0  2021.0  2010.470612\n",
      "like new   1986.0  2020.0  2012.197496\n",
      "new        1986.0  2020.0  2013.365957\n",
      "salvage    1986.0  2019.0  2007.561224\n",
      "           nanmin  nanmax       nanmean\n",
      "condition                              \n",
      "excellent     895   99991  12776.704346\n",
      "fair          875   75000   3506.128377\n",
      "good          852   99995  12978.418499\n",
      "like new      895   99888  16329.763940\n",
      "new          1000   99000  20919.236170\n",
      "salvage       900   27750   5164.248299\n",
      "price             int64\n",
      "year            float64\n",
      "manufacturer     object\n",
      "model            object\n",
      "condition        object\n",
      "cylinders        object\n",
      "fuel             object\n",
      "odometer        float64\n",
      "transmission     object\n",
      "drive            object\n",
      "size             object\n",
      "type             object\n",
      "dtype: object\n"
     ]
    }
   ],
   "source": [
    "avg_odo_cond =df.groupby('condition')['odometer'].agg([np.nanmin,np.nanmax,np.nanmean])\n",
    "avg_year_cond = df.groupby('condition')['year'].agg([np.nanmin,np.nanmax,np.nanmean])\n",
    "avg_price_cond = df.groupby('condition')['price'].agg([np.nanmin,np.nanmax,np.nanmean])\n",
    "print(avg_odo_cond)\n",
    "print(avg_year_cond)\n",
    "print(avg_price_cond)\n",
    "condition = df['condition']\n",
    "condition.value_counts()\n",
    "print(df.dtypes)\n",
    "\n"
   ]
  },
  {
   "cell_type": "code",
   "execution_count": 27,
   "metadata": {},
   "outputs": [],
   "source": [
    "df['condition'] = df['condition'].fillna('good')"
   ]
  },
  {
   "cell_type": "code",
   "execution_count": 28,
   "metadata": {
    "scrolled": true
   },
   "outputs": [
    {
     "data": {
      "text/plain": [
       "price                0\n",
       "year                 0\n",
       "manufacturer     10567\n",
       "model             3181\n",
       "condition            0\n",
       "cylinders       133749\n",
       "fuel              2581\n",
       "odometer             0\n",
       "transmission      3143\n",
       "drive            79091\n",
       "size            254761\n",
       "type             69542\n",
       "dtype: int64"
      ]
     },
     "execution_count": 28,
     "metadata": {},
     "output_type": "execute_result"
    }
   ],
   "source": [
    "df.isnull().sum()"
   ]
  },
  {
   "cell_type": "code",
   "execution_count": 29,
   "metadata": {
    "scrolled": true
   },
   "outputs": [],
   "source": [
    "\n",
    "df.dropna(subset= ['manufacturer','cylinders','size',], how='all', inplace=True)\n"
   ]
  },
  {
   "cell_type": "code",
   "execution_count": 30,
   "metadata": {},
   "outputs": [
    {
     "data": {
      "text/plain": [
       "price                0\n",
       "year                 0\n",
       "manufacturer      7986\n",
       "model             3181\n",
       "condition            0\n",
       "cylinders       131168\n",
       "fuel              2554\n",
       "odometer             0\n",
       "transmission      3102\n",
       "drive            77454\n",
       "size            252180\n",
       "type             68207\n",
       "dtype: int64"
      ]
     },
     "execution_count": 30,
     "metadata": {},
     "output_type": "execute_result"
    }
   ],
   "source": [
    "df.isnull().sum()"
   ]
  },
  {
   "cell_type": "code",
   "execution_count": 31,
   "metadata": {
    "scrolled": true
   },
   "outputs": [
    {
     "name": "stdout",
     "output_type": "stream",
     "text": [
      "        price    year manufacturer                   model  condition  \\\n",
      "239658   2300  1999.0        acura                   2.3cl       good   \n",
      "447187   6450  2006.0        acura            2006 tl. 3.2  excellent   \n",
      "16757    1500  1997.0        acura                  3.0 cl       fair   \n",
      "38841    3480  1999.0        acura                   3.0cl  excellent   \n",
      "65746    3780  1999.0        acura                   3.0cl  excellent   \n",
      "...       ...     ...          ...                     ...        ...   \n",
      "126299   5500  1990.0          NaN                wrangler       good   \n",
      "230473  10500  2002.0          NaN              wrangler X  excellent   \n",
      "78474    8999  2008.0          NaN                      x5  excellent   \n",
      "453909  11950  2008.0          NaN      ♿ BRAUN ENTERVAN ♿  excellent   \n",
      "470946  11950  2008.0          NaN  ♿ BRAUN WHEELCHAIR VAN  excellent   \n",
      "\n",
      "          cylinders fuel  odometer transmission drive       size      type  \n",
      "239658          NaN  gas  121000.0    automatic   NaN        NaN       NaN  \n",
      "447187  6 cylinders  gas  122000.0    automatic   fwd  full-size     sedan  \n",
      "16757   6 cylinders  gas  142000.0    automatic   fwd   mid-size     coupe  \n",
      "38841           NaN  gas  187486.0    automatic   fwd        NaN       NaN  \n",
      "65746           NaN  gas  187486.0    automatic   fwd        NaN       NaN  \n",
      "...             ...  ...       ...          ...   ...        ...       ...  \n",
      "126299  6 cylinders  gas  130000.0    automatic   4wd        NaN       SUV  \n",
      "230473  6 cylinders  gas   57000.0       manual   4wd        NaN       SUV  \n",
      "78474   8 cylinders  gas   42000.0    automatic   4wd  full-size       SUV  \n",
      "453909  6 cylinders  gas  119799.0    automatic   fwd   mid-size  mini-van  \n",
      "470946  6 cylinders  gas  119799.0    automatic   fwd  full-size  mini-van  \n",
      "\n",
      "[379829 rows x 12 columns]\n"
     ]
    }
   ],
   "source": [
    "df = df.sort_values(by =['manufacturer', 'model'])\n",
    "print(df)"
   ]
  },
  {
   "cell_type": "code",
   "execution_count": 32,
   "metadata": {},
   "outputs": [],
   "source": [
    "df = df[~df['manufacturer'].isin(['alfa-romeo','hennessey','harley-davidson','porche', 'land rover','tesla','aston-martin','ferrari'])]\n",
    "df_uniq = df[df['manufacturer'].isin(['alfa-romeo','hennessey','harley-davidson','porche', 'land rover','tesla','aston-martin','ferrari'])] \n",
    "df = df[~df['fuel'].isin(['other'])]"
   ]
  },
  {
   "cell_type": "code",
   "execution_count": 33,
   "metadata": {},
   "outputs": [],
   "source": [
    "df['model'] = df['model'].fillna(method= 'bfill')\n",
    "df['drive'] = df['drive'].fillna(method= 'bfill')\n",
    "df['transmission'] = df['transmission'].fillna(method= 'ffill')\n",
    "df['cylinders'] = df['cylinders'].fillna(method= 'bfill')\n",
    "df['size'] = df['size'].fillna(method= 'bfill')\n",
    "df['fuel'] = df['fuel'].fillna(method= 'ffill')\n",
    "df['type'] = df['type'].fillna(method= 'bfill')\n",
    "df['manufacturer'] = df['manufacturer'].fillna(method= 'ffill')"
   ]
  },
  {
   "cell_type": "code",
   "execution_count": 34,
   "metadata": {},
   "outputs": [
    {
     "data": {
      "text/plain": [
       "price           0\n",
       "year            0\n",
       "manufacturer    0\n",
       "model           0\n",
       "condition       0\n",
       "cylinders       0\n",
       "fuel            0\n",
       "odometer        0\n",
       "transmission    0\n",
       "drive           0\n",
       "size            0\n",
       "type            0\n",
       "dtype: int64"
      ]
     },
     "execution_count": 34,
     "metadata": {},
     "output_type": "execute_result"
    }
   ],
   "source": [
    "df.isnull().sum()"
   ]
  },
  {
   "cell_type": "code",
   "execution_count": 35,
   "metadata": {
    "scrolled": true
   },
   "outputs": [
    {
     "data": {
      "text/plain": [
       "f-150                       7688\n",
       "silverado 1500              5175\n",
       "1500                        4601\n",
       "silverado                   3211\n",
       "wrangler                    2938\n",
       "                            ... \n",
       "f-250 sd lariat crew cab       1\n",
       "express passenger lt 3         1\n",
       "promaster 1500 low roof        1\n",
       "gli 1.8t turbo jetta           1\n",
       "Doge Charger GT                1\n",
       "Name: model, Length: 25401, dtype: int64"
      ]
     },
     "execution_count": 35,
     "metadata": {},
     "output_type": "execute_result"
    }
   ],
   "source": [
    "model = df['model']\n",
    "model.value_counts()"
   ]
  },
  {
   "cell_type": "code",
   "execution_count": 36,
   "metadata": {
    "scrolled": true
   },
   "outputs": [
    {
     "data": {
      "text/plain": [
       "6 cylinders     133615\n",
       "4 cylinders     122704\n",
       "8 cylinders     104381\n",
       "5 cylinders       3221\n",
       "10 cylinders      2009\n",
       "other             1483\n",
       "3 cylinders        614\n",
       "12 cylinders       139\n",
       "Name: cylinders, dtype: int64"
      ]
     },
     "execution_count": 36,
     "metadata": {},
     "output_type": "execute_result"
    }
   ],
   "source": [
    "cylinders = df['cylinders']\n",
    "cylinders.value_counts()"
   ]
  },
  {
   "cell_type": "code",
   "execution_count": 37,
   "metadata": {},
   "outputs": [],
   "source": [
    "df = df[~df.cylinders.str.contains(\"other\")]"
   ]
  },
  {
   "cell_type": "code",
   "execution_count": 38,
   "metadata": {},
   "outputs": [
    {
     "data": {
      "text/plain": [
       "full-size      194747\n",
       "mid-size       111503\n",
       "compact         52295\n",
       "sub-compact      8138\n",
       "Name: size, dtype: int64"
      ]
     },
     "execution_count": 38,
     "metadata": {},
     "output_type": "execute_result"
    }
   ],
   "source": [
    "size = df['size']\n",
    "size.value_counts()"
   ]
  },
  {
   "cell_type": "code",
   "execution_count": 39,
   "metadata": {},
   "outputs": [
    {
     "data": {
      "text/plain": [
       "gas         333922\n",
       "diesel       29218\n",
       "hybrid        3287\n",
       "electric       256\n",
       "Name: fuel, dtype: int64"
      ]
     },
     "execution_count": 39,
     "metadata": {},
     "output_type": "execute_result"
    }
   ],
   "source": [
    "fuel = df['fuel']\n",
    "fuel.value_counts()"
   ]
  },
  {
   "cell_type": "code",
   "execution_count": 40,
   "metadata": {},
   "outputs": [
    {
     "data": {
      "text/plain": [
       "automatic    327960\n",
       "manual        19900\n",
       "other         18823\n",
       "Name: transmission, dtype: int64"
      ]
     },
     "execution_count": 40,
     "metadata": {},
     "output_type": "execute_result"
    }
   ],
   "source": [
    "transmission = df['transmission']\n",
    "transmission.value_counts()"
   ]
  },
  {
   "cell_type": "code",
   "execution_count": 41,
   "metadata": {},
   "outputs": [
    {
     "data": {
      "text/html": [
       "<div>\n",
       "<style scoped>\n",
       "    .dataframe tbody tr th:only-of-type {\n",
       "        vertical-align: middle;\n",
       "    }\n",
       "\n",
       "    .dataframe tbody tr th {\n",
       "        vertical-align: top;\n",
       "    }\n",
       "\n",
       "    .dataframe thead th {\n",
       "        text-align: right;\n",
       "    }\n",
       "</style>\n",
       "<table border=\"1\" class=\"dataframe\">\n",
       "  <thead>\n",
       "    <tr style=\"text-align: right;\">\n",
       "      <th></th>\n",
       "      <th>price</th>\n",
       "      <th>year</th>\n",
       "      <th>manufacturer</th>\n",
       "      <th>model</th>\n",
       "      <th>condition</th>\n",
       "      <th>cylinders</th>\n",
       "      <th>fuel</th>\n",
       "      <th>odometer</th>\n",
       "      <th>transmission</th>\n",
       "      <th>drive</th>\n",
       "      <th>size</th>\n",
       "      <th>type</th>\n",
       "    </tr>\n",
       "  </thead>\n",
       "  <tbody>\n",
       "    <tr>\n",
       "      <td>170291</td>\n",
       "      <td>3600</td>\n",
       "      <td>1997.0</td>\n",
       "      <td>acura</td>\n",
       "      <td>integra</td>\n",
       "      <td>good</td>\n",
       "      <td>4 cylinders</td>\n",
       "      <td>gas</td>\n",
       "      <td>136577.0</td>\n",
       "      <td>other</td>\n",
       "      <td>fwd</td>\n",
       "      <td>sub-compact</td>\n",
       "      <td>hatchback</td>\n",
       "    </tr>\n",
       "    <tr>\n",
       "      <td>507711</td>\n",
       "      <td>3600</td>\n",
       "      <td>1997.0</td>\n",
       "      <td>acura</td>\n",
       "      <td>integra</td>\n",
       "      <td>good</td>\n",
       "      <td>4 cylinders</td>\n",
       "      <td>gas</td>\n",
       "      <td>136577.0</td>\n",
       "      <td>other</td>\n",
       "      <td>fwd</td>\n",
       "      <td>compact</td>\n",
       "      <td>hatchback</td>\n",
       "    </tr>\n",
       "    <tr>\n",
       "      <td>510869</td>\n",
       "      <td>3600</td>\n",
       "      <td>1997.0</td>\n",
       "      <td>acura</td>\n",
       "      <td>integra</td>\n",
       "      <td>good</td>\n",
       "      <td>4 cylinders</td>\n",
       "      <td>gas</td>\n",
       "      <td>136577.0</td>\n",
       "      <td>other</td>\n",
       "      <td>fwd</td>\n",
       "      <td>compact</td>\n",
       "      <td>hatchback</td>\n",
       "    </tr>\n",
       "    <tr>\n",
       "      <td>14000</td>\n",
       "      <td>20999</td>\n",
       "      <td>2014.0</td>\n",
       "      <td>acura</td>\n",
       "      <td>mdx</td>\n",
       "      <td>good</td>\n",
       "      <td>6 cylinders</td>\n",
       "      <td>gas</td>\n",
       "      <td>70188.0</td>\n",
       "      <td>other</td>\n",
       "      <td>4wd</td>\n",
       "      <td>full-size</td>\n",
       "      <td>SUV</td>\n",
       "    </tr>\n",
       "    <tr>\n",
       "      <td>98637</td>\n",
       "      <td>16995</td>\n",
       "      <td>2013.0</td>\n",
       "      <td>acura</td>\n",
       "      <td>mdx</td>\n",
       "      <td>good</td>\n",
       "      <td>6 cylinders</td>\n",
       "      <td>gas</td>\n",
       "      <td>122940.0</td>\n",
       "      <td>other</td>\n",
       "      <td>4wd</td>\n",
       "      <td>mid-size</td>\n",
       "      <td>SUV</td>\n",
       "    </tr>\n",
       "    <tr>\n",
       "      <td>...</td>\n",
       "      <td>...</td>\n",
       "      <td>...</td>\n",
       "      <td>...</td>\n",
       "      <td>...</td>\n",
       "      <td>...</td>\n",
       "      <td>...</td>\n",
       "      <td>...</td>\n",
       "      <td>...</td>\n",
       "      <td>...</td>\n",
       "      <td>...</td>\n",
       "      <td>...</td>\n",
       "      <td>...</td>\n",
       "    </tr>\n",
       "    <tr>\n",
       "      <td>81346</td>\n",
       "      <td>4999</td>\n",
       "      <td>2008.0</td>\n",
       "      <td>volvo</td>\n",
       "      <td>smart fortwo passion</td>\n",
       "      <td>excellent</td>\n",
       "      <td>4 cylinders</td>\n",
       "      <td>gas</td>\n",
       "      <td>45000.0</td>\n",
       "      <td>other</td>\n",
       "      <td>fwd</td>\n",
       "      <td>sub-compact</td>\n",
       "      <td>coupe</td>\n",
       "    </tr>\n",
       "    <tr>\n",
       "      <td>188008</td>\n",
       "      <td>4400</td>\n",
       "      <td>2008.0</td>\n",
       "      <td>volvo</td>\n",
       "      <td>smart fortwo passion</td>\n",
       "      <td>excellent</td>\n",
       "      <td>3 cylinders</td>\n",
       "      <td>gas</td>\n",
       "      <td>59900.0</td>\n",
       "      <td>other</td>\n",
       "      <td>fwd</td>\n",
       "      <td>compact</td>\n",
       "      <td>coupe</td>\n",
       "    </tr>\n",
       "    <tr>\n",
       "      <td>412041</td>\n",
       "      <td>3877</td>\n",
       "      <td>2009.0</td>\n",
       "      <td>volvo</td>\n",
       "      <td>smart fortwo passion</td>\n",
       "      <td>fair</td>\n",
       "      <td>3 cylinders</td>\n",
       "      <td>gas</td>\n",
       "      <td>87000.0</td>\n",
       "      <td>other</td>\n",
       "      <td>rwd</td>\n",
       "      <td>compact</td>\n",
       "      <td>convertible</td>\n",
       "    </tr>\n",
       "    <tr>\n",
       "      <td>354812</td>\n",
       "      <td>7995</td>\n",
       "      <td>2013.0</td>\n",
       "      <td>volvo</td>\n",
       "      <td>suburu impreza</td>\n",
       "      <td>excellent</td>\n",
       "      <td>4 cylinders</td>\n",
       "      <td>gas</td>\n",
       "      <td>88000.0</td>\n",
       "      <td>other</td>\n",
       "      <td>4wd</td>\n",
       "      <td>mid-size</td>\n",
       "      <td>hatchback</td>\n",
       "    </tr>\n",
       "    <tr>\n",
       "      <td>170851</td>\n",
       "      <td>6200</td>\n",
       "      <td>2013.0</td>\n",
       "      <td>volvo</td>\n",
       "      <td>volkwagen beetle</td>\n",
       "      <td>excellent</td>\n",
       "      <td>8 cylinders</td>\n",
       "      <td>gas</td>\n",
       "      <td>45323.0</td>\n",
       "      <td>other</td>\n",
       "      <td>rwd</td>\n",
       "      <td>compact</td>\n",
       "      <td>coupe</td>\n",
       "    </tr>\n",
       "  </tbody>\n",
       "</table>\n",
       "<p>18823 rows × 12 columns</p>\n",
       "</div>"
      ],
      "text/plain": [
       "        price    year manufacturer                 model  condition  \\\n",
       "170291   3600  1997.0        acura               integra       good   \n",
       "507711   3600  1997.0        acura               integra       good   \n",
       "510869   3600  1997.0        acura               integra       good   \n",
       "14000   20999  2014.0        acura                   mdx       good   \n",
       "98637   16995  2013.0        acura                   mdx       good   \n",
       "...       ...     ...          ...                   ...        ...   \n",
       "81346    4999  2008.0        volvo  smart fortwo passion  excellent   \n",
       "188008   4400  2008.0        volvo  smart fortwo passion  excellent   \n",
       "412041   3877  2009.0        volvo  smart fortwo passion       fair   \n",
       "354812   7995  2013.0        volvo        suburu impreza  excellent   \n",
       "170851   6200  2013.0        volvo      volkwagen beetle  excellent   \n",
       "\n",
       "          cylinders fuel  odometer transmission drive         size  \\\n",
       "170291  4 cylinders  gas  136577.0        other   fwd  sub-compact   \n",
       "507711  4 cylinders  gas  136577.0        other   fwd      compact   \n",
       "510869  4 cylinders  gas  136577.0        other   fwd      compact   \n",
       "14000   6 cylinders  gas   70188.0        other   4wd    full-size   \n",
       "98637   6 cylinders  gas  122940.0        other   4wd     mid-size   \n",
       "...             ...  ...       ...          ...   ...          ...   \n",
       "81346   4 cylinders  gas   45000.0        other   fwd  sub-compact   \n",
       "188008  3 cylinders  gas   59900.0        other   fwd      compact   \n",
       "412041  3 cylinders  gas   87000.0        other   rwd      compact   \n",
       "354812  4 cylinders  gas   88000.0        other   4wd     mid-size   \n",
       "170851  8 cylinders  gas   45323.0        other   rwd      compact   \n",
       "\n",
       "               type  \n",
       "170291    hatchback  \n",
       "507711    hatchback  \n",
       "510869    hatchback  \n",
       "14000           SUV  \n",
       "98637           SUV  \n",
       "...             ...  \n",
       "81346         coupe  \n",
       "188008        coupe  \n",
       "412041  convertible  \n",
       "354812    hatchback  \n",
       "170851        coupe  \n",
       "\n",
       "[18823 rows x 12 columns]"
      ]
     },
     "execution_count": 41,
     "metadata": {},
     "output_type": "execute_result"
    }
   ],
   "source": [
    "df[df['transmission'].str.match('other')]"
   ]
  },
  {
   "cell_type": "code",
   "execution_count": 42,
   "metadata": {},
   "outputs": [
    {
     "data": {
      "text/plain": [
       "SUV            92270\n",
       "sedan          92159\n",
       "pickup         50892\n",
       "truck          46825\n",
       "coupe          18381\n",
       "other          13772\n",
       "hatchback      13550\n",
       "wagon          12520\n",
       "van            10666\n",
       "convertible     7610\n",
       "mini-van        6869\n",
       "offroad          648\n",
       "bus              521\n",
       "Name: type, dtype: int64"
      ]
     },
     "execution_count": 42,
     "metadata": {},
     "output_type": "execute_result"
    }
   ],
   "source": [
    "type2 = df['type']\n",
    "type2.value_counts()"
   ]
  },
  {
   "cell_type": "code",
   "execution_count": 43,
   "metadata": {},
   "outputs": [
    {
     "data": {
      "text/plain": [
       "['price',\n",
       " 'year',\n",
       " 'manufacturer',\n",
       " 'model',\n",
       " 'condition',\n",
       " 'cylinders',\n",
       " 'fuel',\n",
       " 'odometer',\n",
       " 'transmission',\n",
       " 'drive',\n",
       " 'size',\n",
       " 'type']"
      ]
     },
     "execution_count": 43,
     "metadata": {},
     "output_type": "execute_result"
    }
   ],
   "source": [
    "list(df)\n"
   ]
  },
  {
   "cell_type": "code",
   "execution_count": 44,
   "metadata": {},
   "outputs": [],
   "source": [
    "df.to_csv('vehicles_cleaned.csv')"
   ]
  },
  {
   "cell_type": "code",
   "execution_count": null,
   "metadata": {},
   "outputs": [],
   "source": []
  },
  {
   "cell_type": "code",
   "execution_count": null,
   "metadata": {},
   "outputs": [],
   "source": []
  }
 ],
 "metadata": {
  "kernelspec": {
   "display_name": "Python 3",
   "language": "python",
   "name": "python3"
  },
  "language_info": {
   "codemirror_mode": {
    "name": "ipython",
    "version": 3
   },
   "file_extension": ".py",
   "mimetype": "text/x-python",
   "name": "python",
   "nbconvert_exporter": "python",
   "pygments_lexer": "ipython3",
   "version": "3.7.4"
  }
 },
 "nbformat": 4,
 "nbformat_minor": 2
}
