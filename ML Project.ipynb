{
 "cells": [
  {
   "cell_type": "code",
   "execution_count": 60,
   "metadata": {},
   "outputs": [],
   "source": [
    "import pandas as pd\n",
    "import numpy as np\n",
    "pd.set_option('display.max_rows', 1000)"
   ]
  },
  {
   "cell_type": "code",
   "execution_count": 61,
   "metadata": {},
   "outputs": [],
   "source": [
    "df = pd.read_csv('vehicles_cleaned.csv',index_col= 0)\n"
   ]
  },
  {
   "cell_type": "code",
   "execution_count": 62,
   "metadata": {},
   "outputs": [
    {
     "data": {
      "text/plain": [
       "(304051, 12)"
      ]
     },
     "execution_count": 62,
     "metadata": {},
     "output_type": "execute_result"
    }
   ],
   "source": [
    "df.shape"
   ]
  },
  {
   "cell_type": "code",
   "execution_count": 63,
   "metadata": {},
   "outputs": [
    {
     "name": "stdout",
     "output_type": "stream",
     "text": [
      "<class 'pandas.core.frame.DataFrame'>\n",
      "Int64Index: 304051 entries, 0 to 312725\n",
      "Data columns (total 12 columns):\n",
      "price           304051 non-null int64\n",
      "year            304051 non-null float64\n",
      "manufacturer    304051 non-null object\n",
      "model           304051 non-null object\n",
      "condition       304051 non-null object\n",
      "cylinders       304051 non-null object\n",
      "fuel            304051 non-null object\n",
      "odometer        304051 non-null float64\n",
      "transmission    304051 non-null object\n",
      "drive           304051 non-null object\n",
      "size            304051 non-null object\n",
      "type            304051 non-null object\n",
      "dtypes: float64(2), int64(1), object(9)\n",
      "memory usage: 30.2+ MB\n"
     ]
    },
    {
     "data": {
      "text/plain": [
       "None"
      ]
     },
     "metadata": {},
     "output_type": "display_data"
    }
   ],
   "source": [
    "display(df.info())"
   ]
  },
  {
   "cell_type": "code",
   "execution_count": 64,
   "metadata": {},
   "outputs": [
    {
     "data": {
      "text/plain": [
       "6     105339\n",
       "4     103661\n",
       "8      91412\n",
       "5       1802\n",
       "10      1574\n",
       "3        249\n",
       "12        14\n",
       "Name: cylinders, dtype: int64"
      ]
     },
     "execution_count": 64,
     "metadata": {},
     "output_type": "execute_result"
    }
   ],
   "source": [
    "#Change 'Cylinders' Column to Numerical \n",
    "cleanup_nums = {\"12 cylinders\" : 12, \"10 cylinders\": 10,\"8 cylinders\": 8,\"6 cylinders\": 6,'5 cylinders':5,\"4 cylinders\":4,\"3 cylinders\": 3 }\n",
    "df.cylinders.replace(cleanup_nums, inplace=True, regex=True)\n",
    "df.cylinders.value_counts()"
   ]
  },
  {
   "cell_type": "code",
   "execution_count": 65,
   "metadata": {},
   "outputs": [
    {
     "name": "stdout",
     "output_type": "stream",
     "text": [
      "<class 'pandas.core.frame.DataFrame'>\n",
      "Int64Index: 304051 entries, 0 to 312725\n",
      "Data columns (total 12 columns):\n",
      "price           304051 non-null int64\n",
      "year            304051 non-null float64\n",
      "manufacturer    304051 non-null object\n",
      "model           304051 non-null object\n",
      "condition       304051 non-null object\n",
      "cylinders       304051 non-null int64\n",
      "fuel            304051 non-null object\n",
      "odometer        304051 non-null float64\n",
      "transmission    304051 non-null object\n",
      "drive           304051 non-null object\n",
      "size            304051 non-null object\n",
      "type            304051 non-null object\n",
      "dtypes: float64(2), int64(2), object(8)\n",
      "memory usage: 30.2+ MB\n"
     ]
    },
    {
     "data": {
      "text/plain": [
       "None"
      ]
     },
     "metadata": {},
     "output_type": "display_data"
    }
   ],
   "source": [
    "display(df.info())"
   ]
  },
  {
   "cell_type": "code",
   "execution_count": 66,
   "metadata": {},
   "outputs": [
    {
     "data": {
      "text/html": [
       "<div>\n",
       "<style scoped>\n",
       "    .dataframe tbody tr th:only-of-type {\n",
       "        vertical-align: middle;\n",
       "    }\n",
       "\n",
       "    .dataframe tbody tr th {\n",
       "        vertical-align: top;\n",
       "    }\n",
       "\n",
       "    .dataframe thead th {\n",
       "        text-align: right;\n",
       "    }\n",
       "</style>\n",
       "<table border=\"1\" class=\"dataframe\">\n",
       "  <thead>\n",
       "    <tr style=\"text-align: right;\">\n",
       "      <th></th>\n",
       "      <th>price</th>\n",
       "      <th>year</th>\n",
       "      <th>manufacturer</th>\n",
       "      <th>model</th>\n",
       "      <th>condition</th>\n",
       "      <th>cylinders</th>\n",
       "      <th>fuel</th>\n",
       "      <th>odometer</th>\n",
       "      <th>transmission</th>\n",
       "      <th>drive</th>\n",
       "      <th>size</th>\n",
       "      <th>type</th>\n",
       "    </tr>\n",
       "  </thead>\n",
       "  <tbody>\n",
       "    <tr>\n",
       "      <td>0</td>\n",
       "      <td>6450</td>\n",
       "      <td>2006.0</td>\n",
       "      <td>acura</td>\n",
       "      <td>200</td>\n",
       "      <td>excellent</td>\n",
       "      <td>6</td>\n",
       "      <td>gas</td>\n",
       "      <td>122000.0</td>\n",
       "      <td>automatic</td>\n",
       "      <td>fwd</td>\n",
       "      <td>full-size</td>\n",
       "      <td>sedan</td>\n",
       "    </tr>\n",
       "    <tr>\n",
       "      <td>1</td>\n",
       "      <td>5270</td>\n",
       "      <td>2006.0</td>\n",
       "      <td>acura</td>\n",
       "      <td>200</td>\n",
       "      <td>excellent</td>\n",
       "      <td>6</td>\n",
       "      <td>gas</td>\n",
       "      <td>103000.0</td>\n",
       "      <td>automatic</td>\n",
       "      <td>fwd</td>\n",
       "      <td>mid-size</td>\n",
       "      <td>sedan</td>\n",
       "    </tr>\n",
       "    <tr>\n",
       "      <td>2</td>\n",
       "      <td>3500</td>\n",
       "      <td>1991.0</td>\n",
       "      <td>audi</td>\n",
       "      <td>200</td>\n",
       "      <td>good</td>\n",
       "      <td>5</td>\n",
       "      <td>gas</td>\n",
       "      <td>120000.0</td>\n",
       "      <td>automatic</td>\n",
       "      <td>4wd</td>\n",
       "      <td>mid-size</td>\n",
       "      <td>sedan</td>\n",
       "    </tr>\n",
       "    <tr>\n",
       "      <td>3</td>\n",
       "      <td>8000</td>\n",
       "      <td>2010.0</td>\n",
       "      <td>chevrolet</td>\n",
       "      <td>200</td>\n",
       "      <td>good</td>\n",
       "      <td>6</td>\n",
       "      <td>gas</td>\n",
       "      <td>100000.0</td>\n",
       "      <td>automatic</td>\n",
       "      <td>fwd</td>\n",
       "      <td>full-size</td>\n",
       "      <td>sedan</td>\n",
       "    </tr>\n",
       "    <tr>\n",
       "      <td>4</td>\n",
       "      <td>8000</td>\n",
       "      <td>2016.0</td>\n",
       "      <td>chevrolet</td>\n",
       "      <td>200</td>\n",
       "      <td>good</td>\n",
       "      <td>6</td>\n",
       "      <td>gas</td>\n",
       "      <td>70000.0</td>\n",
       "      <td>automatic</td>\n",
       "      <td>fwd</td>\n",
       "      <td>full-size</td>\n",
       "      <td>sedan</td>\n",
       "    </tr>\n",
       "  </tbody>\n",
       "</table>\n",
       "</div>"
      ],
      "text/plain": [
       "   price    year manufacturer model  condition  cylinders fuel  odometer  \\\n",
       "0   6450  2006.0        acura   200  excellent          6  gas  122000.0   \n",
       "1   5270  2006.0        acura   200  excellent          6  gas  103000.0   \n",
       "2   3500  1991.0         audi   200       good          5  gas  120000.0   \n",
       "3   8000  2010.0    chevrolet   200       good          6  gas  100000.0   \n",
       "4   8000  2016.0    chevrolet   200       good          6  gas   70000.0   \n",
       "\n",
       "  transmission drive       size   type  \n",
       "0    automatic   fwd  full-size  sedan  \n",
       "1    automatic   fwd   mid-size  sedan  \n",
       "2    automatic   4wd   mid-size  sedan  \n",
       "3    automatic   fwd  full-size  sedan  \n",
       "4    automatic   fwd  full-size  sedan  "
      ]
     },
     "metadata": {},
     "output_type": "display_data"
    }
   ],
   "source": [
    "display(df.head())"
   ]
  },
  {
   "cell_type": "code",
   "execution_count": 67,
   "metadata": {},
   "outputs": [
    {
     "data": {
      "text/plain": [
       "price           0\n",
       "year            0\n",
       "manufacturer    0\n",
       "model           0\n",
       "condition       0\n",
       "cylinders       0\n",
       "fuel            0\n",
       "odometer        0\n",
       "transmission    0\n",
       "drive           0\n",
       "size            0\n",
       "type            0\n",
       "dtype: int64"
      ]
     },
     "execution_count": 67,
     "metadata": {},
     "output_type": "execute_result"
    }
   ],
   "source": [
    "#missing values\n",
    "df.isnull().sum()"
   ]
  },
  {
   "cell_type": "code",
   "execution_count": 68,
   "metadata": {},
   "outputs": [
    {
     "data": {
      "text/plain": [
       "good         187392\n",
       "excellent     93406\n",
       "like new      18696\n",
       "fair           3936\n",
       "new             378\n",
       "salvage         243\n",
       "Name: condition, dtype: int64"
      ]
     },
     "execution_count": 68,
     "metadata": {},
     "output_type": "execute_result"
    }
   ],
   "source": [
    "df.condition.value_counts()"
   ]
  },
  {
   "cell_type": "code",
   "execution_count": 69,
   "metadata": {},
   "outputs": [
    {
     "data": {
      "text/plain": [
       "good         187392\n",
       "excellent     93406\n",
       "like new      18696\n",
       "fair           3936\n",
       "Name: condition, dtype: int64"
      ]
     },
     "execution_count": 69,
     "metadata": {},
     "output_type": "execute_result"
    }
   ],
   "source": [
    "#dropping cars that are new or non- functional\n",
    "df = df[~(df['condition'] == 'salvage')]\n",
    "df = df[~(df['condition'] == 'new')]\n",
    "df.condition.value_counts()"
   ]
  },
  {
   "cell_type": "code",
   "execution_count": 70,
   "metadata": {},
   "outputs": [
    {
     "name": "stdout",
     "output_type": "stream",
     "text": [
      "                model  count\n",
      "0           silverado  17141\n",
      "1                 500  15647\n",
      "2               f-150   9859\n",
      "3              sierra   7314\n",
      "4            wrangler   6944\n",
      "5                 ion   6709\n",
      "6      grand cherokee   5482\n",
      "7                  x4   4939\n",
      "8              escape   4829\n",
      "9               f-250   4788\n",
      "10             accord   4652\n",
      "11              civic   4489\n",
      "12              camry   4331\n",
      "13                van   4099\n",
      "14             altima   3945\n",
      "15             tacoma   3750\n",
      "16              f-350   3679\n",
      "17            equinox   3584\n",
      "18              focus   3530\n",
      "19             tundra   3329\n",
      "20            mustang   3260\n",
      "21           explorer   3136\n",
      "22                xlt   3119\n",
      "23              rogue   3054\n",
      "24               cr-v   2944\n",
      "25            corolla   2908\n",
      "26                300   2798\n",
      "27             malibu   2762\n",
      "28              tahoe   2684\n",
      "29             impala   2559\n",
      "30            outback   2455\n",
      "31              cruze   2440\n",
      "32               edge   2357\n",
      "33             sonota   2243\n",
      "34            elantra   2230\n",
      "35           forester   2186\n",
      "36            odyssey   2185\n",
      "37             sentra   2156\n",
      "38   town and country   2039\n",
      "39              rav-4   2005\n",
      "40           suburban   2002\n",
      "41          superduty   1991\n",
      "42              yukon   1987\n",
      "43            4Runner   1936\n",
      "44                200   1910\n",
      "45              prius   1894\n",
      "46              cargo   1813\n",
      "47             camaro   1786\n",
      "48                 x5   1741\n",
      "49             passat   1719\n",
      "50             sienna   1692\n",
      "51                rio   1683\n",
      "52              pilot   1671\n",
      "53            charger   1664\n",
      "54         highlander   1624\n",
      "55           traverse   1607\n",
      "56                 x3   1550\n",
      "57            express   1536\n",
      "58             ranger   1518\n",
      "59            journey   1494\n",
      "60           escalade   1477\n",
      "61             cooper   1469\n",
      "62             acadia   1465\n",
      "63            impreza   1461\n",
      "64             taurus   1420\n",
      "65            liberty   1376\n",
      "66             denali   1368\n",
      "67           santa fe   1363\n",
      "68              jetta   1358\n",
      "69           frontier   1354\n",
      "70              titan   1339\n",
      "71              versa   1326\n",
      "72            sorento   1313\n",
      "73             optima   1307\n",
      "74           corvette   1306\n",
      "75              4.0se   1292\n",
      "76             murano   1259\n",
      "77           3 series   1246\n",
      "78               soul   1235\n",
      "79             legacy   1212\n",
      "80            enclave   1207\n",
      "81            durango   1196\n",
      "82           colorado   1189\n",
      "83                 rx   1172\n",
      "84                 a3   1170\n",
      "85               328i   1159\n",
      "86            terrian   1151\n",
      "87               f150   1150\n",
      "88             maxima   1127\n",
      "89            c-class   1107\n",
      "90            transit   1086\n",
      "91             encore   1069\n",
      "92         challenger   1058\n",
      "93         pathfinder   1048\n",
      "94                 a4   1046\n",
      "95            cruiser   1041\n",
      "96             tuscon   1037\n",
      "97            compass   1035\n",
      "98                cts    981\n",
      "99                 q5    977\n",
      "100        trailbazer    933\n",
      "101               mdx    922\n",
      "102               cab    922\n",
      "103             f-550    903\n",
      "104            pickup    887\n",
      "105            dakota    876\n",
      "106         avalanche    859\n",
      "107               srx    856\n",
      "108            fiesta    833\n",
      "109           e-class    827\n",
      "110         econoline    805\n",
      "111          sportage    790\n",
      "112             f-450    771\n",
      "113          lacrosse    771\n",
      "114            beetle    758\n",
      "115             forte    738\n",
      "116            avalon    720\n",
      "117              f250    716\n",
      "118              flex    702\n",
      "119                g6    691\n",
      "120            tiguan    682\n",
      "121            accent    678\n",
      "122           sequoia    659\n",
      "123         outlander    612\n",
      "124                tl    592\n",
      "125              dart    588\n",
      "126         crosstrek    565\n",
      "127            cobalt    561\n",
      "128             truck    561\n",
      "129           avenger    551\n",
      "130              f350    541\n",
      "131             sonic    533\n",
      "132               fit    519\n",
      "133               mkz    514\n",
      "134          5 series    504\n",
      "135               g37    499\n",
      "136          renegade    488\n",
      "137            xterra    487\n",
      "138          veloster    486\n",
      "139            hummer    478\n",
      "140           genesis    464\n",
      "141               g35    454\n",
      "142            armada    453\n",
      "143                a5    448\n",
      "144             envoy    447\n",
      "145           sebring    446\n",
      "146           s-class    446\n",
      "147                m3    432\n",
      "148            diesel    430\n",
      "149               mkx    429\n",
      "150                 3    427\n",
      "151               hhr    418\n",
      "152          pacifica    417\n",
      "153              cx-5    416\n",
      "154         hatchback    406\n",
      "155               gti    404\n",
      "156              golf    398\n",
      "157               vue    396\n",
      "158         navigator    394\n",
      "159        grand prix    385\n",
      "160         ridgeline    377\n",
      "161           lesabre    374\n",
      "162               rdx    372\n",
      "163              528i    371\n",
      "164             sport    368\n",
      "165           deville    366\n",
      "166           lucerne    363\n",
      "167               dts    357\n",
      "168            canyon    354\n",
      "169              juke    352\n",
      "170           element    350\n",
      "171              cx-9    348\n",
      "172              mx-5    348\n",
      "173            sedona    347\n",
      "174                x1    344\n",
      "175               sti    341\n",
      "176               tsx    337\n",
      "177           marquis    337\n",
      "178             yaris    335\n",
      "179           eclipse    316\n",
      "180            mazda6    315\n",
      "181              xc90    313\n",
      "182               ats    313\n",
      "183                gx    305\n",
      "184          gl-class    305\n",
      "185            es 350    303\n",
      "186              535i    301\n"
     ]
    }
   ],
   "source": [
    "pd.set_option('display.max_rows', 200)\n",
    "model = pd.DataFrame(df.model.value_counts().reset_index())\n",
    "model.columns = ['model', 'count']\n",
    "print(model)\n",
    "\n",
    "# merge 'df' & 'brands_count'\n",
    "df = pd.merge(df, model, on='model')\n"
   ]
  },
  {
   "cell_type": "code",
   "execution_count": 71,
   "metadata": {},
   "outputs": [
    {
     "data": {
      "text/plain": [
       "124"
      ]
     },
     "execution_count": 71,
     "metadata": {},
     "output_type": "execute_result"
    }
   ],
   "source": [
    "df = df[(df['count'] > 600)]\n",
    "df.model.value_counts().count()"
   ]
  },
  {
   "cell_type": "code",
   "execution_count": 72,
   "metadata": {},
   "outputs": [
    {
     "data": {
      "text/plain": [
       "full-size      156196\n",
       "mid-size        81334\n",
       "compact         34687\n",
       "sub-compact      5024\n",
       "Name: size, dtype: int64"
      ]
     },
     "execution_count": 72,
     "metadata": {},
     "output_type": "execute_result"
    }
   ],
   "source": [
    "df['size'].value_counts()"
   ]
  },
  {
   "cell_type": "code",
   "execution_count": 73,
   "metadata": {},
   "outputs": [
    {
     "data": {
      "text/plain": [
       "full-size    156196\n",
       "mid-size      81334\n",
       "compact       39711\n",
       "Name: size, dtype: int64"
      ]
     },
     "execution_count": 73,
     "metadata": {},
     "output_type": "execute_result"
    }
   ],
   "source": [
    "# setting sub-compact = compact\n",
    "df['size'] = df['size'].apply(lambda x: 'compact' if 'sub-compact' in x else x)\n",
    "df['size'].value_counts()"
   ]
  },
  {
   "cell_type": "code",
   "execution_count": 74,
   "metadata": {},
   "outputs": [
    {
     "data": {
      "text/plain": [
       "5"
      ]
     },
     "execution_count": 74,
     "metadata": {},
     "output_type": "execute_result"
    }
   ],
   "source": [
    "#dropping 'cylinders' >3 & <12\n",
    "df = df[df['cylinders'] > 3]\n",
    "df = df[df['cylinders'] < 12]\n",
    "df.cylinders.value_counts().count()"
   ]
  },
  {
   "cell_type": "code",
   "execution_count": 75,
   "metadata": {},
   "outputs": [
    {
     "data": {
      "text/plain": [
       "SUV            74356\n",
       "sedan          63158\n",
       "pickup         43645\n",
       "truck          42340\n",
       "coupe           9703\n",
       "wagon           8832\n",
       "van             8731\n",
       "hatchback       8550\n",
       "other           7869\n",
       "mini-van        5618\n",
       "convertible     3359\n",
       "offroad          590\n",
       "bus              258\n",
       "Name: type, dtype: int64"
      ]
     },
     "execution_count": 75,
     "metadata": {},
     "output_type": "execute_result"
    }
   ],
   "source": [
    "df['type'].value_counts()"
   ]
  },
  {
   "cell_type": "code",
   "execution_count": 76,
   "metadata": {},
   "outputs": [],
   "source": [
    "#setting pickup == truck , dropping bus\n",
    "df['type'] = df['type'].apply(lambda x: 'truck' if 'pickup' in x else x)\n",
    "df = df[~(df['type'] == 'bus')]\n"
   ]
  },
  {
   "cell_type": "code",
   "execution_count": 77,
   "metadata": {},
   "outputs": [
    {
     "data": {
      "text/plain": [
       "(276751, 13)"
      ]
     },
     "execution_count": 77,
     "metadata": {},
     "output_type": "execute_result"
    }
   ],
   "source": [
    "df.shape"
   ]
  },
  {
   "cell_type": "code",
   "execution_count": 78,
   "metadata": {},
   "outputs": [
    {
     "data": {
      "text/plain": [
       "silverado           17141\n",
       "500                 15629\n",
       "f-150                9856\n",
       "sierra               7312\n",
       "wrangler             6940\n",
       "ion                  6653\n",
       "grand cherokee       5481\n",
       "x4                   4923\n",
       "escape               4827\n",
       "f-250                4787\n",
       "accord               4650\n",
       "civic                4485\n",
       "camry                4330\n",
       "van                  4066\n",
       "altima               3945\n",
       "tacoma               3750\n",
       "f-350                3676\n",
       "equinox              3584\n",
       "focus                3499\n",
       "tundra               3329\n",
       "mustang              3260\n",
       "explorer             3131\n",
       "xlt                  3117\n",
       "rogue                3054\n",
       "cr-v                 2943\n",
       "corolla              2906\n",
       "300                  2781\n",
       "malibu               2760\n",
       "tahoe                2683\n",
       "impala               2559\n",
       "outback              2451\n",
       "cruze                2440\n",
       "edge                 2357\n",
       "sonota               2243\n",
       "elantra              2230\n",
       "forester             2186\n",
       "odyssey              2184\n",
       "sentra               2156\n",
       "town and country     2037\n",
       "rav-4                2005\n",
       "suburban             2002\n",
       "yukon                1987\n",
       "superduty            1987\n",
       "4Runner              1936\n",
       "200                  1894\n",
       "prius                1890\n",
       "cargo                1811\n",
       "camaro               1786\n",
       "x5                   1740\n",
       "passat               1718\n",
       "sienna               1692\n",
       "rio                  1683\n",
       "pilot                1671\n",
       "charger              1664\n",
       "highlander           1623\n",
       "traverse             1604\n",
       "x3                   1550\n",
       "ranger               1517\n",
       "express              1516\n",
       "journey              1494\n",
       "escalade             1477\n",
       "acadia               1465\n",
       "impreza              1461\n",
       "taurus               1420\n",
       "cooper               1397\n",
       "liberty              1375\n",
       "denali               1368\n",
       "santa fe             1361\n",
       "jetta                1358\n",
       "frontier             1354\n",
       "titan                1337\n",
       "versa                1326\n",
       "sorento              1313\n",
       "optima               1307\n",
       "corvette             1306\n",
       "4.0se                1292\n",
       "murano               1259\n",
       "3 series             1245\n",
       "soul                 1235\n",
       "legacy               1212\n",
       "enclave              1207\n",
       "durango              1192\n",
       "colorado             1189\n",
       "rx                   1170\n",
       "a3                   1169\n",
       "328i                 1159\n",
       "f150                 1149\n",
       "terrian              1149\n",
       "maxima               1127\n",
       "c-class              1107\n",
       "transit              1083\n",
       "encore               1069\n",
       "challenger           1058\n",
       "pathfinder           1048\n",
       "a4                   1046\n",
       "cruiser              1039\n",
       "tuscon               1037\n",
       "compass              1035\n",
       "cts                   978\n",
       "q5                    977\n",
       "trailbazer            933\n",
       "cab                   922\n",
       "mdx                   922\n",
       "pickup                886\n",
       "dakota                876\n",
       "avalanche             859\n",
       "srx                   856\n",
       "f-550                 838\n",
       "e-class               827\n",
       "fiesta                809\n",
       "sportage              790\n",
       "lacrosse              771\n",
       "econoline             770\n",
       "f-450                 769\n",
       "beetle                758\n",
       "forte                 738\n",
       "avalon                720\n",
       "f250                  716\n",
       "flex                  702\n",
       "g6                    691\n",
       "tiguan                682\n",
       "accent                678\n",
       "sequoia               659\n",
       "outlander             612\n",
       "Name: model, dtype: int64"
      ]
     },
     "execution_count": 78,
     "metadata": {},
     "output_type": "execute_result"
    }
   ],
   "source": [
    "df.model.value_counts()"
   ]
  },
  {
   "cell_type": "code",
   "execution_count": 79,
   "metadata": {},
   "outputs": [
    {
     "data": {
      "text/html": [
       "<div>\n",
       "<style scoped>\n",
       "    .dataframe tbody tr th:only-of-type {\n",
       "        vertical-align: middle;\n",
       "    }\n",
       "\n",
       "    .dataframe tbody tr th {\n",
       "        vertical-align: top;\n",
       "    }\n",
       "\n",
       "    .dataframe thead th {\n",
       "        text-align: right;\n",
       "    }\n",
       "</style>\n",
       "<table border=\"1\" class=\"dataframe\">\n",
       "  <thead>\n",
       "    <tr style=\"text-align: right;\">\n",
       "      <th></th>\n",
       "      <th>price</th>\n",
       "      <th>year</th>\n",
       "      <th>cylinders</th>\n",
       "      <th>odometer</th>\n",
       "      <th>manufacturer_acura</th>\n",
       "      <th>manufacturer_audi</th>\n",
       "      <th>manufacturer_bmw</th>\n",
       "      <th>manufacturer_buick</th>\n",
       "      <th>manufacturer_cadillac</th>\n",
       "      <th>manufacturer_chevrolet</th>\n",
       "      <th>...</th>\n",
       "      <th>type_convertible</th>\n",
       "      <th>type_coupe</th>\n",
       "      <th>type_hatchback</th>\n",
       "      <th>type_mini-van</th>\n",
       "      <th>type_offroad</th>\n",
       "      <th>type_other</th>\n",
       "      <th>type_sedan</th>\n",
       "      <th>type_truck</th>\n",
       "      <th>type_van</th>\n",
       "      <th>type_wagon</th>\n",
       "    </tr>\n",
       "  </thead>\n",
       "  <tbody>\n",
       "    <tr>\n",
       "      <td>0</td>\n",
       "      <td>6450</td>\n",
       "      <td>2006.0</td>\n",
       "      <td>6</td>\n",
       "      <td>122000.0</td>\n",
       "      <td>1</td>\n",
       "      <td>0</td>\n",
       "      <td>0</td>\n",
       "      <td>0</td>\n",
       "      <td>0</td>\n",
       "      <td>0</td>\n",
       "      <td>...</td>\n",
       "      <td>0</td>\n",
       "      <td>0</td>\n",
       "      <td>0</td>\n",
       "      <td>0</td>\n",
       "      <td>0</td>\n",
       "      <td>0</td>\n",
       "      <td>1</td>\n",
       "      <td>0</td>\n",
       "      <td>0</td>\n",
       "      <td>0</td>\n",
       "    </tr>\n",
       "    <tr>\n",
       "      <td>1</td>\n",
       "      <td>5270</td>\n",
       "      <td>2006.0</td>\n",
       "      <td>6</td>\n",
       "      <td>103000.0</td>\n",
       "      <td>1</td>\n",
       "      <td>0</td>\n",
       "      <td>0</td>\n",
       "      <td>0</td>\n",
       "      <td>0</td>\n",
       "      <td>0</td>\n",
       "      <td>...</td>\n",
       "      <td>0</td>\n",
       "      <td>0</td>\n",
       "      <td>0</td>\n",
       "      <td>0</td>\n",
       "      <td>0</td>\n",
       "      <td>0</td>\n",
       "      <td>1</td>\n",
       "      <td>0</td>\n",
       "      <td>0</td>\n",
       "      <td>0</td>\n",
       "    </tr>\n",
       "    <tr>\n",
       "      <td>2</td>\n",
       "      <td>3500</td>\n",
       "      <td>1991.0</td>\n",
       "      <td>5</td>\n",
       "      <td>120000.0</td>\n",
       "      <td>0</td>\n",
       "      <td>1</td>\n",
       "      <td>0</td>\n",
       "      <td>0</td>\n",
       "      <td>0</td>\n",
       "      <td>0</td>\n",
       "      <td>...</td>\n",
       "      <td>0</td>\n",
       "      <td>0</td>\n",
       "      <td>0</td>\n",
       "      <td>0</td>\n",
       "      <td>0</td>\n",
       "      <td>0</td>\n",
       "      <td>1</td>\n",
       "      <td>0</td>\n",
       "      <td>0</td>\n",
       "      <td>0</td>\n",
       "    </tr>\n",
       "    <tr>\n",
       "      <td>3</td>\n",
       "      <td>8000</td>\n",
       "      <td>2010.0</td>\n",
       "      <td>6</td>\n",
       "      <td>100000.0</td>\n",
       "      <td>0</td>\n",
       "      <td>0</td>\n",
       "      <td>0</td>\n",
       "      <td>0</td>\n",
       "      <td>0</td>\n",
       "      <td>1</td>\n",
       "      <td>...</td>\n",
       "      <td>0</td>\n",
       "      <td>0</td>\n",
       "      <td>0</td>\n",
       "      <td>0</td>\n",
       "      <td>0</td>\n",
       "      <td>0</td>\n",
       "      <td>1</td>\n",
       "      <td>0</td>\n",
       "      <td>0</td>\n",
       "      <td>0</td>\n",
       "    </tr>\n",
       "    <tr>\n",
       "      <td>4</td>\n",
       "      <td>8000</td>\n",
       "      <td>2016.0</td>\n",
       "      <td>6</td>\n",
       "      <td>70000.0</td>\n",
       "      <td>0</td>\n",
       "      <td>0</td>\n",
       "      <td>0</td>\n",
       "      <td>0</td>\n",
       "      <td>0</td>\n",
       "      <td>1</td>\n",
       "      <td>...</td>\n",
       "      <td>0</td>\n",
       "      <td>0</td>\n",
       "      <td>0</td>\n",
       "      <td>0</td>\n",
       "      <td>0</td>\n",
       "      <td>0</td>\n",
       "      <td>1</td>\n",
       "      <td>0</td>\n",
       "      <td>0</td>\n",
       "      <td>0</td>\n",
       "    </tr>\n",
       "  </tbody>\n",
       "</table>\n",
       "<p>5 rows × 64 columns</p>\n",
       "</div>"
      ],
      "text/plain": [
       "   price    year  cylinders  odometer  manufacturer_acura  manufacturer_audi  \\\n",
       "0   6450  2006.0          6  122000.0                   1                  0   \n",
       "1   5270  2006.0          6  103000.0                   1                  0   \n",
       "2   3500  1991.0          5  120000.0                   0                  1   \n",
       "3   8000  2010.0          6  100000.0                   0                  0   \n",
       "4   8000  2016.0          6   70000.0                   0                  0   \n",
       "\n",
       "   manufacturer_bmw  manufacturer_buick  manufacturer_cadillac  \\\n",
       "0                 0                   0                      0   \n",
       "1                 0                   0                      0   \n",
       "2                 0                   0                      0   \n",
       "3                 0                   0                      0   \n",
       "4                 0                   0                      0   \n",
       "\n",
       "   manufacturer_chevrolet  ...  type_convertible  type_coupe  type_hatchback  \\\n",
       "0                       0  ...                 0           0               0   \n",
       "1                       0  ...                 0           0               0   \n",
       "2                       0  ...                 0           0               0   \n",
       "3                       1  ...                 0           0               0   \n",
       "4                       1  ...                 0           0               0   \n",
       "\n",
       "   type_mini-van  type_offroad  type_other  type_sedan  type_truck  type_van  \\\n",
       "0              0             0           0           1           0         0   \n",
       "1              0             0           0           1           0         0   \n",
       "2              0             0           0           1           0         0   \n",
       "3              0             0           0           1           0         0   \n",
       "4              0             0           0           1           0         0   \n",
       "\n",
       "   type_wagon  \n",
       "0           0  \n",
       "1           0  \n",
       "2           0  \n",
       "3           0  \n",
       "4           0  \n",
       "\n",
       "[5 rows x 64 columns]"
      ]
     },
     "execution_count": 79,
     "metadata": {},
     "output_type": "execute_result"
    }
   ],
   "source": [
    "#convert categorical data into numerical \n",
    "from sklearn import preprocessing \n",
    "import pandas as pd\n",
    "df = df.drop(columns= ['model','count'])\n",
    "\n",
    "df= pd.get_dummies(df, prefix=['manufacturer','condition','fuel','drive','transmission','size','type'], columns=['manufacturer','condition','fuel','drive','transmission','size','type'])\n",
    "df.shape\n",
    "df.head()\n"
   ]
  },
  {
   "cell_type": "code",
   "execution_count": 80,
   "metadata": {
    "scrolled": true
   },
   "outputs": [
    {
     "name": "stdout",
     "output_type": "stream",
     "text": [
      "(193725, 63)\n",
      "(193725,)\n",
      "(83026, 63)\n",
      "(83026,)\n"
     ]
    }
   ],
   "source": [
    "from sklearn import datasets, linear_model\n",
    "from sklearn.model_selection import train_test_split\n",
    "import numpy as np\n",
    "y = df.price.values\n",
    "X = df.drop('price', axis= 1)\n",
    "y = np.array(y)\n",
    "features = list(X.columns)\n",
    "X_train , X_test, y_train, y_test = train_test_split(X,y, test_size=0.3, random_state= 40)\n",
    "print(X_train.shape)\n",
    "print(y_train.shape)\n",
    "print(X_test.shape)\n",
    "print(y_test.shape)\n"
   ]
  },
  {
   "cell_type": "code",
   "execution_count": 81,
   "metadata": {},
   "outputs": [],
   "source": [
    "#scale with minmaxscaler\n",
    "from sklearn.preprocessing import StandardScaler\n",
    "\n",
    "sc = StandardScaler()   \n",
    "X_train= sc.fit_transform(X_train)\n",
    "X_test= sc.transform(X_test)\n",
    "\n"
   ]
  },
  {
   "cell_type": "code",
   "execution_count": 82,
   "metadata": {},
   "outputs": [
    {
     "name": "stdout",
     "output_type": "stream",
     "text": [
      "CV RMSE: 5263.55\n",
      "Root Mean Squared Error: 5205.5865132508925\n",
      "0.7510684832213995\n"
     ]
    }
   ],
   "source": [
    "#Linear Regression\n",
    "from sklearn.linear_model import LinearRegression\n",
    "from sklearn.metrics import mean_squared_error as MSE\n",
    "from sklearn.model_selection import cross_val_score\n",
    "\n",
    "reg_all = LinearRegression()\n",
    "\n",
    "\n",
    "# # 5fold CV RMSE\n",
    "MSE_CV_scores = -cross_val_score(reg_all, X_train, y_train, cv=5, \n",
    "                       scoring='neg_mean_squared_error',\n",
    "                       n_jobs=-1)\n",
    "RMSE_CV = MSE_CV_scores.mean()**(1/2)\n",
    "print('CV RMSE: {:.2f}'.format(RMSE_CV))\n",
    "\n",
    "# Test set RMSE\n",
    "reg_all.fit(X_train, y_train)\n",
    "y_pred = reg_all.predict(X_test)\n",
    "rmse = np.sqrt(MSE(y_test, y_pred))\n",
    "print(\"Root Mean Squared Error: {}\".format(rmse))\n",
    "score = reg_all.score(X_test, y_test)\n",
    "print(score)\n"
   ]
  },
  {
   "cell_type": "code",
   "execution_count": 86,
   "metadata": {},
   "outputs": [
    {
     "name": "stdout",
     "output_type": "stream",
     "text": [
      "0.7432344371113822\n",
      "5286.86369908212\n"
     ]
    },
    {
     "data": {
      "image/png": "[encoded data removed]",
      "text/plain": [
       "<Figure size 432x288 with 1 Axes>"
      ]
     },
     "metadata": {
      "needs_background": "light"
     },
     "output_type": "display_data"
    },
    {
     "data": {
      "image/png": "[encoded data removed]",
      "text/plain": [
       "<Figure size 432x288 with 1 Axes>"
      ]
     },
     "metadata": {
      "needs_background": "light"
     },
     "output_type": "display_data"
    }
   ],
   "source": [
    "#Lasso Regression\n",
    "from sklearn.linear_model import Lasso\n",
    "import matplotlib.pyplot as plt\n",
    "from sklearn.model_selection import GridSearchCV\n",
    "import numpy as np\n",
    "\n",
    "lasso = Lasso(alpha= 0.4, normalize=True)\n",
    "lasso.fit(X_train,y_train)\n",
    "prediction = lasso.predict(X_test)\n",
    "score = lasso.score(X_test, y_test)\n",
    "print(score)\n",
    "rmse = np.sqrt(MSE(y_test, prediction))\n",
    "print(rmse)\n",
    "#graphing Lasso coefficents\n",
    "importances = pd.Series(data=lasso.fit(X_train, y_train).coef_,\n",
    "                        index= features)\n",
    "\n",
    "# Sort importances\n",
    "importances_sorted = importances.sort_values()\n",
    "positive_importance = importances_sorted[importances_sorted > 0]\n",
    "negative_importance = importances_sorted[importances_sorted < 0]\n",
    "\n",
    "#positive and negative Lasso plots\n",
    "positive_importance.plot(kind='barh', color='lightgreen')\n",
    "plt.title('Coeffecients')\n",
    "plt.yticks(horizontalalignment='right',\n",
    "    fontweight='light',\n",
    "    fontsize='x-small' )\n",
    "plt.show()\n",
    "negative_importance.plot(kind='barh', color='lightgreen')\n",
    "plt.title('Coeffecients')\n",
    "plt.yticks(horizontalalignment='right',\n",
    "    fontweight='light',\n",
    "    fontsize='x-small' )\n",
    "\n",
    "plt.show()\n"
   ]
  },
  {
   "cell_type": "code",
   "execution_count": 92,
   "metadata": {},
   "outputs": [
    {
     "name": "stdout",
     "output_type": "stream",
     "text": [
      "Test set RMSE of dt: 4431.33\n"
     ]
    }
   ],
   "source": [
    "#Decision Tree \n",
    "from sklearn.tree import DecisionTreeRegressor\n",
    "from sklearn.metrics import mean_squared_error as MSE\n",
    "\n",
    "# Instantiate dt\n",
    "dt = DecisionTreeRegressor(max_depth=200,\n",
    "             min_samples_leaf=0.001,\n",
    "            random_state=100)\n",
    "\n",
    "# Fit dt to the training set\n",
    "dt.fit(X_train, y_train)\n",
    "y_pred = dt.predict(X_test)\n",
    "\n",
    "# Compute mse_dt\n",
    "mse_dt = MSE(y_test,y_pred)\n",
    "rmse_dt = mse_dt**(1/2)\n",
    "print(\"Test set RMSE of dt: {:.2f}\".format(rmse_dt))"
   ]
  },
  {
   "cell_type": "code",
   "execution_count": 93,
   "metadata": {},
   "outputs": [
    {
     "name": "stdout",
     "output_type": "stream",
     "text": [
      "CV RMSE: 4488.73\n"
     ]
    }
   ],
   "source": [
    "MSE_CV_scores = -cross_val_score(dt, X_train, y_train, cv=10, \n",
    "                       scoring='neg_mean_squared_error',\n",
    "                       n_jobs=-1)\n",
    "\n",
    "# Compute the 10-folds CV RMSE\n",
    "RMSE_CV = MSE_CV_scores.mean()**(1/2)\n",
    "\n",
    "# Print RMSE_CV\n",
    "print('CV RMSE: {:.2f}'.format(RMSE_CV))"
   ]
  },
  {
   "cell_type": "code",
   "execution_count": 135,
   "metadata": {},
   "outputs": [
    {
     "name": "stdout",
     "output_type": "stream",
     "text": [
      "Test set RMSE of rf: 5200.94\n"
     ]
    }
   ],
   "source": [
    "from sklearn.ensemble import RandomForestRegressor\n",
    "from sklearn.metrics import mean_squared_error as MSE\n",
    "\n",
    "rf = RandomForestRegressor(n_estimators=200,min_samples_leaf=0.01,\n",
    "            random_state=2)\n",
    "            \n",
    "# Fit rf to the training set    \n",
    "rf.fit(X_train,y_train) \n",
    "\n",
    "y_pred = rf.predict(X_test)\n",
    "\n",
    "# Evaluate the test set RMSE\n",
    "rmse_test = MSE(y_test, y_pred)**(1/2)\n",
    "\n",
    "# Print rmse_test\n",
    "print('Test set RMSE of rf: {:.2f}'.format(rmse_test))\n"
   ]
  },
  {
   "cell_type": "code",
   "execution_count": 98,
   "metadata": {},
   "outputs": [
    {
     "data": {
      "image/png": "[encoded data removed]",
      "text/plain": [
       "<Figure size 432x288 with 1 Axes>"
      ]
     },
     "metadata": {
      "needs_background": "light"
     },
     "output_type": "display_data"
    }
   ],
   "source": [
    "importances = pd.Series(data=rf.feature_importances_,\n",
    "                        index= features)\n",
    "\n",
    "# Sort importances\n",
    "importances_sorted = importances.sort_values()\n",
    "top_importance = importances_sorted[importances_sorted > 0]\n",
    "\n",
    "# barplot of importances\n",
    "top_importance.plot(kind='barh', color='lightgreen')\n",
    "plt.title('Features Importances')\n",
    "plt.yticks(horizontalalignment='right',\n",
    "    fontweight='light',\n",
    "    fontsize='x-small' )\n",
    "\n",
    "\n",
    "plt.show()"
   ]
  },
  {
   "cell_type": "code",
   "execution_count": 100,
   "metadata": {},
   "outputs": [
    {
     "name": "stdout",
     "output_type": "stream",
     "text": [
      "Mean Absolute Error: 5144.37\n",
      "Mean Squared Error: 42111824.2\n",
      "Root Mean Squared Error: 6489.36\n"
     ]
    }
   ],
   "source": [
    "from sklearn.tree import DecisionTreeRegressor\n",
    "from sklearn import metrics\n",
    "from sklearn.ensemble import AdaBoostRegressor\n",
    "import pandas as pd\n",
    "dt = DecisionTreeRegressor(max_depth=100,\n",
    "             min_samples_leaf=0.01,\n",
    "            random_state=100)\n",
    "ada = AdaBoostRegressor(base_estimator=dt, n_estimators=70, random_state=1)          \n",
    "# Fit Ada to the training set    \n",
    "ada.fit(X_train,y_train) \n",
    "y_pred = ada.predict(X_test)\n",
    "\n",
    "\n",
    "print('Mean Absolute Error:', round(metrics.mean_absolute_error(y_test, y_pred),2))\n",
    "print('Mean Squared Error:', round(metrics.mean_squared_error(y_test, y_pred),2))\n",
    "print('Root Mean Squared Error:', round(np.sqrt(metrics.mean_squared_error(y_test, y_pred)),2))\n",
    "\n",
    "\n",
    "\n"
   ]
  },
  {
   "cell_type": "code",
   "execution_count": 101,
   "metadata": {},
   "outputs": [
    {
     "name": "stdout",
     "output_type": "stream",
     "text": [
      "Test set RMSE of gb: 4013.392\n"
     ]
    }
   ],
   "source": [
    "from sklearn.ensemble import GradientBoostingRegressor\n",
    "\n",
    "gb = GradientBoostingRegressor(max_depth=4, \n",
    "            n_estimators=200,\n",
    "            random_state=2)\n",
    "\n",
    "gb.fit(X_train, y_train)\n",
    "\n",
    "y_pred = gb.predict(X_test)\n",
    "mse_test = MSE(y_test,y_pred)\n",
    "\n",
    "rmse_test = mse_test**(1/2)\n",
    "\n",
    "# Print RMSE\n",
    "print('Test set RMSE of gb: {:.3f}'.format(rmse_test))"
   ]
  },
  {
   "cell_type": "code",
   "execution_count": 103,
   "metadata": {},
   "outputs": [
    {
     "name": "stdout",
     "output_type": "stream",
     "text": [
      "Fitting 3 folds for each of 9 candidates, totalling 27 fits\n"
     ]
    },
    {
     "name": "stderr",
     "output_type": "stream",
     "text": [
      "[Parallel(n_jobs=-1)]: Using backend LokyBackend with 12 concurrent workers.\n",
      "[Parallel(n_jobs=-1)]: Done  27 out of  27 | elapsed: 13.3min finished\n"
     ]
    },
    {
     "name": "stdout",
     "output_type": "stream",
     "text": [
      "Test RMSE of best model: 3809.212\n"
     ]
    }
   ],
   "source": [
    "from sklearn.ensemble import GradientBoostingRegressor\n",
    "from sklearn.metrics import mean_squared_error as MSE\n",
    "from sklearn.model_selection import GridSearchCV\n",
    "\n",
    "\n",
    "sgbr = GradientBoostingRegressor(max_depth=4, \n",
    "            subsample=0.9,\n",
    "            max_features=0.75,\n",
    "            n_estimators=200,                                \n",
    "            random_state=2)\n",
    "\n",
    "params_rf = {'n_estimators':[100,350,500], 'max_features': ['log2','auto','sqrt']}\n",
    "# GRIDsearch\n",
    "grid_rf = GridSearchCV(estimator=sgbr,\n",
    "                       param_grid=params_rf,\n",
    "                       scoring='neg_mean_squared_error',\n",
    "                       cv=3,\n",
    "                       verbose=1,\n",
    "                       n_jobs=-1)\n",
    "grid_rf.fit(X_train, y_train)\n",
    "# best estimator\n",
    "best_model = grid_rf.best_estimator_\n",
    "\n",
    "# Predict test set labels\n",
    "y_pred = best_model.predict(X_test)\n",
    "\n",
    "# Compute rmse_test\n",
    "rmse_test = MSE(y_test,y_pred)**(1/2)\n",
    "\n",
    "# Print rmse_test\n",
    "print('Test RMSE of best model: {:.3f}'.format(rmse_test)) \n",
    "\n"
   ]
  },
  {
   "cell_type": "code",
   "execution_count": 115,
   "metadata": {},
   "outputs": [
    {
     "name": "stdout",
     "output_type": "stream",
     "text": [
      "[20:52:02] WARNING: src/objective/regression_obj.cu:152: reg:linear is now deprecated in favor of reg:squarederror.\n",
      "RMSE: 5246.469329\n"
     ]
    }
   ],
   "source": [
    "#XGBoost\n",
    "import xgboost as xgb\n",
    "from sklearn.metrics import mean_squared_error as MSE\n",
    "DM_train = xgb.DMatrix(data=X_train, label=y_train)\n",
    "DM_test =  xgb.DMatrix(data=X_test, label=y_test)\n",
    "\n",
    "\n",
    "params = {\"booster\":\"gblinear\", \"objective\":\"reg:linear\"}\n",
    "xg_reg = xgb.train(params = params, dtrain=DM_train, num_boost_round=5)\n",
    "\n",
    "\n",
    "preds = xg_reg.predict(DM_test)\n",
    "rmse = np.sqrt(MSE(y_test,preds))\n",
    "print(\"RMSE: %f\" % (rmse))\n"
   ]
  },
  {
   "cell_type": "code",
   "execution_count": 123,
   "metadata": {},
   "outputs": [
    {
     "name": "stdout",
     "output_type": "stream",
     "text": [
      "[21:35:46] WARNING: src/objective/regression_obj.cu:152: reg:linear is now deprecated in favor of reg:squarederror.\n",
      "[21:35:47] WARNING: src/objective/regression_obj.cu:152: reg:linear is now deprecated in favor of reg:squarederror.\n",
      "[21:35:47] WARNING: src/objective/regression_obj.cu:152: reg:linear is now deprecated in favor of reg:squarederror.\n",
      "[21:35:48] WARNING: src/objective/regression_obj.cu:152: reg:linear is now deprecated in favor of reg:squarederror.\n",
      "[21:37:39] WARNING: src/objective/regression_obj.cu:152: reg:linear is now deprecated in favor of reg:squarederror.\n"
     ]
    },
    {
     "data": {
      "image/png": "[encoded data removed]",
      "text/plain": [
       "<Figure size 432x288 with 1 Axes>"
      ]
     },
     "metadata": {
      "needs_background": "light"
     },
     "output_type": "display_data"
    },
    {
     "name": "stdout",
     "output_type": "stream",
     "text": [
      "99    3247.453735\n",
      "Name: test-rmse-mean, dtype: float64\n"
     ]
    }
   ],
   "source": [
    "#XGB boosting with 4-fold Cross Val\n",
    "dmatrix = xgb.DMatrix(data=X,label=y)\n",
    "params = {\"objective\":\"reg:linear\", \"max_depth\":20}\n",
    "\n",
    "\n",
    "cv_results = xgb.cv(dtrain=dmatrix, params=params, nfold=4, num_boost_round=100, metrics=\"rmse\", as_pandas=True, seed=123)\n",
    "\n",
    "xg_reg = xgb.train(params=params, dtrain=dmatrix, num_boost_round=100)\n",
    "\n",
    "# Importances Plot\n",
    "xgb.plot_importance(xg_reg)\n",
    "plt.show()\n",
    "\n",
    "print((cv_results[\"test-rmse-mean\"]).tail(1))"
   ]
  },
  {
   "cell_type": "code",
   "execution_count": 126,
   "metadata": {},
   "outputs": [
    {
     "name": "stdout",
     "output_type": "stream",
     "text": [
      "[21:45:06] WARNING: src/objective/regression_obj.cu:152: reg:linear is now deprecated in favor of reg:squarederror.\n",
      "[21:45:07] WARNING: src/objective/regression_obj.cu:152: reg:linear is now deprecated in favor of reg:squarederror.\n",
      "[21:45:07] WARNING: src/objective/regression_obj.cu:152: reg:linear is now deprecated in favor of reg:squarederror.\n",
      "[21:45:49] WARNING: src/objective/regression_obj.cu:152: reg:linear is now deprecated in favor of reg:squarederror.\n",
      "[21:45:50] WARNING: src/objective/regression_obj.cu:152: reg:linear is now deprecated in favor of reg:squarederror.\n",
      "[21:45:50] WARNING: src/objective/regression_obj.cu:152: reg:linear is now deprecated in favor of reg:squarederror.\n",
      "[21:47:39] WARNING: src/objective/regression_obj.cu:152: reg:linear is now deprecated in favor of reg:squarederror.\n",
      "[21:47:40] WARNING: src/objective/regression_obj.cu:152: reg:linear is now deprecated in favor of reg:squarederror.\n",
      "[21:47:40] WARNING: src/objective/regression_obj.cu:152: reg:linear is now deprecated in favor of reg:squarederror.\n",
      "   num_boosting_rounds         rmse\n",
      "0                   15  3370.062175\n",
      "1                   30  3400.765381\n",
      "2                   50  3403.871175\n"
     ]
    }
   ],
   "source": [
    "dmatrix = xgb.DMatrix(data=X, label=y)\n",
    "\n",
    "params = {\"objective\":\"reg:linear\", \"max_depth\":80}\n",
    "num_rounds = [15, 30, 50]\n",
    "final_rmse_per_round = []\n",
    "\n",
    "\n",
    "for curr_num_rounds in num_rounds:\n",
    "     cv_results = xgb.cv(dtrain=dmatrix, params=params, nfold=3, num_boost_round=curr_num_rounds, metrics=\"rmse\", as_pandas=True, seed=123)\n",
    "        \n",
    "    final_rmse_per_round.append(cv_results[\"test-rmse-mean\"].tail().values[-1])\n",
    "\n",
    "\n",
    "num_rounds_rmses = list(zip(num_rounds, final_rmse_per_round))\n",
    "print(pd.DataFrame(num_rounds_rmses,columns=[\"num_boosting_rounds\",\"rmse\"]))\n",
    "\n",
    "       "
   ]
  },
  {
   "cell_type": "code",
   "execution_count": 127,
   "metadata": {},
   "outputs": [
    {
     "name": "stdout",
     "output_type": "stream",
     "text": [
      "[21:52:36] WARNING: src/objective/regression_obj.cu:152: reg:linear is now deprecated in favor of reg:squarederror.\n",
      "[21:52:36] WARNING: src/objective/regression_obj.cu:152: reg:linear is now deprecated in favor of reg:squarederror.\n",
      "[21:52:37] WARNING: src/objective/regression_obj.cu:152: reg:linear is now deprecated in favor of reg:squarederror.\n",
      "    train-rmse-mean  train-rmse-std  test-rmse-mean  test-rmse-std\n",
      "0      12879.388021        7.228636    12911.232747      23.161839\n",
      "1       9388.011719        5.904482     9481.525391      26.317801\n",
      "2       6985.908366        5.930931     7182.770833      30.465047\n",
      "3       5328.060872        5.340500     5681.279134      33.265487\n",
      "4       4182.699544        6.550485     4734.348958      34.158504\n",
      "5       3394.658203       10.200176     4152.632161      34.626919\n",
      "6       2852.626302        8.788994     3812.203776      33.912806\n",
      "7       2475.168376        7.807830     3616.582194      34.770974\n",
      "8       2212.153890        4.289898     3502.651204      37.379963\n",
      "9       2036.171875        4.169481     3439.252035      39.258143\n",
      "10      1912.014241        4.341545     3403.578939      38.284891\n",
      "11      1817.270182        5.445594     3381.371012      40.219456\n",
      "12      1751.922933        4.928466     3368.531413      40.658254\n",
      "13      1705.762533        8.753604     3360.058431      40.987762\n",
      "14      1655.104696        5.180208     3353.779460      39.145972\n",
      "15      1618.122599        8.164582     3349.701904      38.553360\n",
      "16      1589.194458       16.386599     3346.037191      38.683098\n",
      "17      1556.460124       18.905501     3342.660482      38.611950\n",
      "18      1531.315958       23.085427     3339.721517      38.583365\n",
      "19      1514.771199       21.853426     3338.117025      38.581569\n",
      "20      1500.906006       19.497823     3336.572022      38.043235\n",
      "21      1471.925537       22.079074     3334.225993      38.127499\n",
      "22      1450.729696       31.874759     3332.690674      38.211939\n",
      "23      1435.883545       27.042176     3330.881429      38.009132\n",
      "24      1423.098836       25.721225     3329.595866      37.108430\n",
      "25      1410.491252       18.865618     3328.463053      37.188401\n",
      "26      1386.733887       16.710436     3326.563883      36.016470\n",
      "27      1370.321615       22.319844     3324.699625      35.630156\n",
      "28      1360.983521       19.514132     3323.874023      35.960247\n",
      "29      1352.802002       18.174726     3322.917155      36.171527\n",
      "30      1348.175944       18.894495     3322.711995      36.259319\n",
      "31      1344.813558       19.097603     3322.374431      36.000803\n",
      "32      1341.377563       20.136194     3322.187093      36.051195\n",
      "33      1333.197062       19.878008     3321.951090      35.970338\n",
      "34      1321.513468       17.448938     3321.193766      36.100322\n",
      "35      1313.431356       17.291514     3320.400309      36.122257\n",
      "36      1309.644165       17.981433     3320.548910      36.159756\n",
      "37      1299.579264       16.256316     3319.804362      36.469820\n",
      "38      1287.907715       10.958121     3319.554199      37.227934\n",
      "39      1277.981974       15.679239     3318.460123      37.016264\n",
      "40      1265.764364       12.904944     3317.798014      37.621171\n",
      "41      1261.811320       12.414348     3317.467530      37.917094\n",
      "42      1246.867350       12.023466     3316.259033      37.879749\n",
      "43      1238.569539       14.536045     3315.752360      37.505037\n",
      "44      1230.965983       17.510491     3314.761882      37.409870\n",
      "45      1228.633057       15.764873     3314.580729      37.365960\n",
      "46      1225.777059       14.910841     3314.354248      37.368778\n",
      "47      1222.705403       15.975059     3314.211181      37.254652\n",
      "48      1215.813354       16.688932     3313.659505      37.824857\n",
      "49      1210.239706       15.596571     3313.242269      37.807403\n"
     ]
    }
   ],
   "source": [
    "#XGBoosting with early stopping rounds =10\n",
    "dmatrix = xgb.DMatrix(data=X,label=y)\n",
    "\n",
    "\n",
    "params = {\"objective\":\"reg:linear\", \"max_depth\":20}\n",
    "\n",
    "cv_results = xgb.cv(dtrain=housing_dmatrix, params=params, nfold=3, num_boost_round=50, early_stopping_rounds=10, metrics=\"rmse\", as_pandas=True, seed=123)\n",
    "\n",
    "print((cv_results[\"test-rmse-mean\"]).tail(1))\n"
   ]
  },
  {
   "cell_type": "code",
   "execution_count": 131,
   "metadata": {},
   "outputs": [
    {
     "name": "stdout",
     "output_type": "stream",
     "text": [
      "[22:11:12] WARNING: src/objective/regression_obj.cu:152: reg:linear is now deprecated in favor of reg:squarederror.\n",
      "[22:11:12] WARNING: src/objective/regression_obj.cu:152: reg:linear is now deprecated in favor of reg:squarederror.\n",
      "[22:11:12] WARNING: src/objective/regression_obj.cu:152: reg:linear is now deprecated in favor of reg:squarederror.\n",
      "[22:11:29] WARNING: src/objective/regression_obj.cu:152: reg:linear is now deprecated in favor of reg:squarederror.\n",
      "[22:11:29] WARNING: src/objective/regression_obj.cu:152: reg:linear is now deprecated in favor of reg:squarederror.\n",
      "[22:11:30] WARNING: src/objective/regression_obj.cu:152: reg:linear is now deprecated in favor of reg:squarederror.\n",
      "[22:11:47] WARNING: src/objective/regression_obj.cu:152: reg:linear is now deprecated in favor of reg:squarederror.\n",
      "[22:11:47] WARNING: src/objective/regression_obj.cu:152: reg:linear is now deprecated in favor of reg:squarederror.\n",
      "[22:11:48] WARNING: src/objective/regression_obj.cu:152: reg:linear is now deprecated in favor of reg:squarederror.\n",
      "    eta    best_rmse\n",
      "0  0.20  3440.916016\n",
      "1  0.25  3363.084635\n",
      "2  0.30  3353.779379\n"
     ]
    }
   ],
   "source": [
    "#Fine Tuning Learning rate\n",
    "dmatrix = xgb.DMatrix(data=X, label=y)\n",
    "\n",
    "\n",
    "params = {\"objective\":\"reg:linear\", \"max_depth\":20}\n",
    "\n",
    "\n",
    "eta_vals = [0.2, 0.25, 0.3]\n",
    "best_rmse = []\n",
    "\n",
    " \n",
    "for curr_val in eta_vals:\n",
    "    params[\"eta\"] = curr_val\n",
    "      \n",
    "    cv_results = xgb.cv(dtrain=dmatrix, params=params, nfold=3, num_boost_round=15,early_stopping_rounds=5, metrics=\"rmse\", as_pandas=True, seed=123)\n",
    "      \n",
    "       \n",
    "    best_rmse.append(cv_results[\"test-rmse-mean\"].tail().values[-1])    \n",
    "\n",
    "print(pd.DataFrame(list(zip(eta_vals, best_rmse)), columns=[\"eta\",\"best_rmse\"]))"
   ]
  },
  {
   "cell_type": "code",
   "execution_count": 134,
   "metadata": {},
   "outputs": [
    {
     "name": "stdout",
     "output_type": "stream",
     "text": [
      "[22:17:33] WARNING: src/objective/regression_obj.cu:152: reg:linear is now deprecated in favor of reg:squarederror.\n",
      "[22:17:34] WARNING: src/objective/regression_obj.cu:152: reg:linear is now deprecated in favor of reg:squarederror.\n",
      "[22:17:34] WARNING: src/objective/regression_obj.cu:152: reg:linear is now deprecated in favor of reg:squarederror.\n",
      "[22:18:07] WARNING: src/objective/regression_obj.cu:152: reg:linear is now deprecated in favor of reg:squarederror.\n",
      "[22:18:08] WARNING: src/objective/regression_obj.cu:152: reg:linear is now deprecated in favor of reg:squarederror.\n",
      "[22:18:08] WARNING: src/objective/regression_obj.cu:152: reg:linear is now deprecated in favor of reg:squarederror.\n",
      "[22:18:44] WARNING: src/objective/regression_obj.cu:152: reg:linear is now deprecated in favor of reg:squarederror.\n",
      "[22:18:44] WARNING: src/objective/regression_obj.cu:152: reg:linear is now deprecated in favor of reg:squarederror.\n",
      "[22:18:44] WARNING: src/objective/regression_obj.cu:152: reg:linear is now deprecated in favor of reg:squarederror.\n",
      "[22:19:21] WARNING: src/objective/regression_obj.cu:152: reg:linear is now deprecated in favor of reg:squarederror.\n",
      "[22:19:21] WARNING: src/objective/regression_obj.cu:152: reg:linear is now deprecated in favor of reg:squarederror.\n",
      "[22:19:21] WARNING: src/objective/regression_obj.cu:152: reg:linear is now deprecated in favor of reg:squarederror.\n",
      "   max_depth    best_rmse\n",
      "0          1  3680.973714\n",
      "1          2  3680.973633\n",
      "2          3  3680.973796\n",
      "3          4  3680.973714\n"
     ]
    }
   ],
   "source": [
    "#Fine Tuning Max_depth\n",
    "dmatrix = xgb.DMatrix(data=X,label=y)\n",
    "\n",
    "params = {\"objective\":\"reg:linear\"}\n",
    "\n",
    "max_depths = [1,2,3,4]\n",
    "best_rmse = []\n",
    "\n",
    "for curr_val in max_depths:\n",
    "\n",
    "    params[\"max_depths\"] = curr_val\n",
    "        \n",
    "    cv_results = xgb.cv(dtrain= housing_dmatrix, params=params, nfold=3, num_boost_round=180,early_stopping_rounds=5, metrics=\"rmse\", as_pandas=True, seed=123)\n",
    "     \n",
    "        \n",
    "    best_rmse.append(cv_results[\"test-rmse-mean\"].tail().values[-1])\n",
    "print(pd.DataFrame(list(zip(max_depths, best_rmse)),columns=[\"max_depth\",\"best_rmse\"]))"
   ]
  },
  {
   "cell_type": "code",
   "execution_count": null,
   "metadata": {},
   "outputs": [],
   "source": []
  }
 ],
 "metadata": {
  "kernelspec": {
   "display_name": "Python 3",
   "language": "python",
   "name": "python3"
  },
  "language_info": {
   "codemirror_mode": {
    "name": "ipython",
    "version": 3
   },
   "file_extension": ".py",
   "mimetype": "text/x-python",
   "name": "python",
   "nbconvert_exporter": "python",
   "pygments_lexer": "ipython3",
   "version": "3.7.4"
  }
 },
 "nbformat": 4,
 "nbformat_minor": 2
}
